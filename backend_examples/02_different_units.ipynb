{
 "cells": [
  {
   "cell_type": "markdown",
   "id": "b75e3e9d",
   "metadata": {},
   "source": [
    "<center><h2>Example 02 - Using Different Units</h2></center>\n",
    "<center><h2>Data taken from Seider <em>et al.</em>, Product and Process Design Principles, 4th ed.</h2></center>\n",
    "<center><h2>Example 11.1 on page 319</h2></center></br>\n",
    "We will now create a network with a non-standard unit for $c_P \\left[ \\frac{kJ}{kg*\\Delta°C} \\text{ instead of } \\frac{J}{kg*\\Delta°C} \\right]$, then use ALChemE to solve the heat exchanger network as in Example 01."
   ]
  },
  {
   "cell_type": "markdown",
   "id": "46f92a3b",
   "metadata": {},
   "source": [
    "As usual, begin by importing our packages."
   ]
  },
  {
   "cell_type": "code",
   "execution_count": null,
   "id": "e12d0539",
   "metadata": {},
   "outputs": [],
   "source": [
    "from hen_design import HEN\n",
    "import unyt as u\n",
    "import numpy as np\n",
    "import pandas as pd"
   ]
  },
  {
   "cell_type": "markdown",
   "id": "3d80b984",
   "metadata": {},
   "source": [
    "We will now declare the HEN object with a non-standard unit. This way, any streams added to this HEN object will automatically be treated as having this non-standard unit."
   ]
  },
  {
   "cell_type": "code",
   "execution_count": null,
   "id": "22937aa9",
   "metadata": {},
   "outputs": [],
   "source": [
    "myhen = HEN(cp_unit = u.kJ/(u.delta_degC*u.kg))"
   ]
  },
  {
   "cell_type": "markdown",
   "id": "9504e0cd",
   "metadata": {},
   "source": [
    "Declare the streams and utilities as in Example 01. Notice that, even though we are not changing the way we declare streams and utilities, they inherit the units of the HEN object."
   ]
  },
  {
   "cell_type": "code",
   "execution_count": null,
   "id": "a5061c61",
   "metadata": {},
   "outputs": [],
   "source": [
    "myhen.add_stream(180, 80, 1) # This 1 for cp is in kJ/(kg*Δ°C)\n",
    "myhen.add_stream(130, 40, 2)\n",
    "myhen.add_stream(60, 100, 4)\n",
    "myhen.add_stream(30, 120, 1.8)"
   ]
  },
  {
   "cell_type": "code",
   "execution_count": null,
   "id": "2e55a77e",
   "metadata": {},
   "outputs": [],
   "source": [
    "myhen.add_utility('hot', 300, 0.70)\n",
    "myhen.add_utility('cold', 30, 0.05)"
   ]
  },
  {
   "cell_type": "markdown",
   "id": "c1b8a7b9",
   "metadata": {},
   "source": [
    "As usual, call get_parameters(). Note how the utility requirements are now in $\\frac{kJ}{s}$"
   ]
  },
  {
   "cell_type": "code",
   "execution_count": null,
   "id": "a78d591b",
   "metadata": {},
   "outputs": [],
   "source": [
    "myhen.get_parameters()"
   ]
  },
  {
   "cell_type": "markdown",
   "id": "7d741cfb",
   "metadata": {},
   "source": [
    "<h3>Solving the system</h3>\n",
    "The setup is complete, so we will solve the system as before."
   ]
  },
  {
   "cell_type": "code",
   "execution_count": null,
   "id": "4fb3b57a",
   "metadata": {},
   "outputs": [],
   "source": [
    "myhen.solve_HEN('above')"
   ]
  },
  {
   "cell_type": "markdown",
   "id": "5c3e8e14",
   "metadata": {},
   "source": [
    "Solutions are stored in myhen.results_above or myhen.results below as pandas DataFrames. A convenient way to display all solutions is below.\\\n",
    "NOTE: Python numbers things from 0, so the 1st solution is solution number 0. Be careful if you are not used to this."
   ]
  },
  {
   "cell_type": "code",
   "execution_count": null,
   "id": "05cc77c7",
   "metadata": {},
   "outputs": [],
   "source": [
    "for idx, elem in enumerate(myhen.results_above):\n",
    "    print(f'Solution number {idx}:')\n",
    "    print(f'Number of exchangers: {(elem.loc[\"Q\"]>0).sum().sum():2} | Total cost: ${elem.loc[\"cost\"].sum().sum():,.2f}')"
   ]
  },
  {
   "cell_type": "markdown",
   "id": "d051e016",
   "metadata": {},
   "source": [
    "Repeating this procedure for the below-pinch region:"
   ]
  },
  {
   "cell_type": "code",
   "execution_count": null,
   "id": "f8d5bba1",
   "metadata": {},
   "outputs": [],
   "source": [
    "myhen.solve_HEN('below')"
   ]
  },
  {
   "cell_type": "code",
   "execution_count": null,
   "id": "b0798851",
   "metadata": {},
   "outputs": [],
   "source": [
    "for idx, elem in enumerate(myhen.results_below):\n",
    "    print(f'Solution number {idx}:')\n",
    "    print(f'Number of exchangers: {(elem.loc[\"Q\"]>0).sum().sum():2} | Total cost: ${elem.loc[\"cost\"].sum().sum():,.2f}')"
   ]
  }
 ],
 "metadata": {
  "kernelspec": {
   "display_name": "Python 3 (ipykernel)",
   "language": "python",
   "name": "python3"
  },
  "language_info": {
   "codemirror_mode": {
    "name": "ipython",
    "version": 3
   },
   "file_extension": ".py",
   "mimetype": "text/x-python",
   "name": "python",
   "nbconvert_exporter": "python",
   "pygments_lexer": "ipython3",
   "version": "3.9.12"
  }
 },
 "nbformat": 4,
 "nbformat_minor": 5
}
