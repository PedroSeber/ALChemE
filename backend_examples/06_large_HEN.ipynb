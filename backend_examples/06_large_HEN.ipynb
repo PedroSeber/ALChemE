{
 "cells": [
  {
   "cell_type": "markdown",
   "id": "b75e3e9d",
   "metadata": {},
   "source": [
    "<center><h2>Example 06 - Solving a Large HEN</h2></center>\n",
    "<center><h2>Data taken from a ChBE 4950W Exam</h2></center></br>\n",
    "We will create and solve a network as usual. This HEN, however, is much larger than the ones in the previous examples."
   ]
  },
  {
   "cell_type": "markdown",
   "id": "46f92a3b",
   "metadata": {},
   "source": [
    "As usual, begin by importing our packages and declaring the HEN object. Note the unit and $\\Delta$T choices."
   ]
  },
  {
   "cell_type": "code",
   "execution_count": null,
   "id": "2e39e348",
   "metadata": {},
   "outputs": [],
   "source": [
    "from hen_design import HEN\n",
    "import unyt as u\n",
    "import numpy as np\n",
    "import pandas as pd"
   ]
  },
  {
   "cell_type": "code",
   "execution_count": null,
   "id": "fe6b570e",
   "metadata": {},
   "outputs": [],
   "source": [
    "myhen = HEN(delta_t = 60, cp_unit = u.kJ/(u.kg*u.delta_degC))"
   ]
  },
  {
   "cell_type": "markdown",
   "id": "6a188f7f",
   "metadata": {},
   "source": [
    "Declare the streams and utilities as usual."
   ]
  },
  {
   "cell_type": "code",
   "execution_count": null,
   "id": "61b7682c",
   "metadata": {},
   "outputs": [],
   "source": [
    "myhen.add_stream(360, 180, 3) # H1\n",
    "myhen.add_stream(220, 120, 2) # H2\n",
    "myhen.add_stream(240, 120, 2) # H3\n",
    "myhen.add_stream(220, 210, 2) # H4\n",
    "myhen.add_stream(180, 60, 4) # H5\n",
    "myhen.add_stream(300, 60, 2) # H6\n",
    "myhen.add_stream(150, 80, 3) # H7\n",
    "myhen.add_stream(60, 120, 3) # C1\n",
    "myhen.add_stream(45, 60, 2) # C2\n",
    "myhen.add_stream(120, 240, 2) # C3\n",
    "myhen.add_stream(80, 160, 4) # C4\n",
    "myhen.add_stream(80, 120, 3) # C5\n",
    "myhen.add_stream(100, 180, 2) # C6\n",
    "myhen.add_stream(120, 200, 4) # C7\n",
    "myhen.add_stream(90, 150, 2) # C8\n",
    "myhen.add_stream(60, 80, 2) # C9"
   ]
  },
  {
   "cell_type": "code",
   "execution_count": null,
   "id": "c0b7461e",
   "metadata": {},
   "outputs": [],
   "source": [
    "myhen.add_utility('hot', 300, 0.70)\n",
    "myhen.add_utility('cold', 30, 0.05)"
   ]
  },
  {
   "cell_type": "markdown",
   "id": "d8dfc611",
   "metadata": {},
   "source": [
    "As usual, call get_parameters()."
   ]
  },
  {
   "cell_type": "code",
   "execution_count": null,
   "id": "f88153a5",
   "metadata": {},
   "outputs": [],
   "source": [
    "myhen.get_parameters()"
   ]
  },
  {
   "cell_type": "markdown",
   "id": "7d741cfb",
   "metadata": {},
   "source": [
    "<h3>Solving the system</h3>\n",
    "The setup is complete, so we will move on to solving the system. Solving this system with a high depth ($\\ge$2) will take a few minutes, depending on your hardware."
   ]
  },
  {
   "cell_type": "code",
   "execution_count": null,
   "id": "e99940e8",
   "metadata": {},
   "outputs": [],
   "source": [
    "myhen.solve_HEN('above', depth = 1)"
   ]
  },
  {
   "cell_type": "markdown",
   "id": "5c3e8e14",
   "metadata": {},
   "source": [
    "Solutions are stored in myhen.results_above or myhen.results below as pandas DataFrames. A convenient way to display all solutions is below.\\\n",
    "NOTE: Python numbers things from 0, so the 1st solution is solution number 0. Be careful if you are not used to this."
   ]
  },
  {
   "cell_type": "code",
   "execution_count": null,
   "id": "e58034df",
   "metadata": {},
   "outputs": [],
   "source": [
    "for idx, elem in enumerate(myhen.results_above):\n",
    "    print(f'Solution number {idx}:')\n",
    "    print(f'Number of exchangers: {(elem.loc[\"Q\"]>0).sum().sum():2} | Total cost: ${elem.loc[\"cost\"].sum().sum():,.2f}')"
   ]
  },
  {
   "cell_type": "code",
   "execution_count": null,
   "id": "ee1ca2f0",
   "metadata": {},
   "outputs": [],
   "source": [
    "myhen.solve_HEN('below', depth = 1)"
   ]
  },
  {
   "cell_type": "markdown",
   "id": "b69b1330",
   "metadata": {},
   "source": [
    "Solutions are stored in myhen.results_above or myhen.results below as pandas DataFrames. A convenient way to display all solutions is below.\\\n",
    "NOTE: Python numbers things from 0, so the 1st solution is solution number 0. Be careful if you are not used to this."
   ]
  },
  {
   "cell_type": "code",
   "execution_count": null,
   "id": "6b296ded",
   "metadata": {},
   "outputs": [],
   "source": [
    "for idx, elem in enumerate(myhen.results_below):\n",
    "    print(f'Solution number {idx}:')\n",
    "    print(f'Number of exchangers: {(elem.loc[\"Q\"]>0).sum().sum():2} | Total cost: ${elem.loc[\"cost\"].sum().sum():,.2f}')"
   ]
  }
 ],
 "metadata": {
  "kernelspec": {
   "display_name": "Python 3 (ipykernel)",
   "language": "python",
   "name": "python3"
  },
  "language_info": {
   "codemirror_mode": {
    "name": "ipython",
    "version": 3
   },
   "file_extension": ".py",
   "mimetype": "text/x-python",
   "name": "python",
   "nbconvert_exporter": "python",
   "pygments_lexer": "ipython3",
   "version": "3.9.12"
  }
 },
 "nbformat": 4,
 "nbformat_minor": 5
}
