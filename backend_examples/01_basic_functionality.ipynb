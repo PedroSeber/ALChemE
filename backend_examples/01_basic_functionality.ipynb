{
 "cells": [
  {
   "cell_type": "markdown",
   "id": "b75e3e9d",
   "metadata": {},
   "source": [
    "<center><h2>Example 01 - Basic ALChemE Functionality</h2></center>\n",
    "<center><h2>Data taken from a ChBE 4950W in-class example</h2></center></br>\n",
    "This simple example will walk you through the basics of defining your stream and utilities, then using ALChemE to solve your heat exchanger network. It is recommended you follow this quick example before using the backend version of ALChemE."
   ]
  },
  {
   "cell_type": "markdown",
   "id": "46f92a3b",
   "metadata": {},
   "source": [
    "First, let us import our packages. For this basic example, you need only hen_design.\\\n",
    "Unyt is typically used when declaring streams that use different units of measurement (such as American units or multiples of SI units)\\\n",
    "Numpy and pandas are used to pass extra parameters to the solver, something that will be covered in later examples."
   ]
  },
  {
   "cell_type": "code",
   "execution_count": null,
   "id": "8fecc505",
   "metadata": {},
   "outputs": [],
   "source": [
    "from hen_design import HEN\n",
    "import unyt as u\n",
    "import numpy as np\n",
    "import pandas as pd"
   ]
  },
  {
   "cell_type": "markdown",
   "id": "69343147",
   "metadata": {},
   "source": [
    "The very first step is declaring the HEN object:"
   ]
  },
  {
   "cell_type": "code",
   "execution_count": null,
   "id": "a1b9572e",
   "metadata": {},
   "outputs": [],
   "source": [
    "myhen = HEN()"
   ]
  },
  {
   "cell_type": "markdown",
   "id": "66f69592",
   "metadata": {},
   "source": [
    "We then declare each stream provided in the prompt. You may declare the streams in any order, and ALChemE will automatically identify which are hot and which are cold.\\\n",
    "Note that, when not specified, the first element is the entrance temperature [°C], the second is the exit temperature [°C], and the third is the $C_P \\left[\\frac{J}{s*kg} \\right]$. We will work with other units in another example."
   ]
  },
  {
   "cell_type": "code",
   "execution_count": null,
   "id": "2359550e",
   "metadata": {},
   "outputs": [],
   "source": [
    "myhen.add_stream(t1 = 250, t2 = 120, cp = 1000)\n",
    "myhen.add_stream(200, 100, 4000)\n",
    "myhen.add_stream(90, 150, 3000)\n",
    "myhen.add_stream(130, 190, 6000)"
   ]
  },
  {
   "cell_type": "markdown",
   "id": "a3638850",
   "metadata": {},
   "source": [
    "We also must declare the utilities. Note that ALChemE assumes that the utilities have a fixed temperature and are always hotter (for hot utilities) or colder (for cold utilities) than the streams they're interacting with."
   ]
  },
  {
   "cell_type": "code",
   "execution_count": null,
   "id": "6f21b2fd",
   "metadata": {},
   "outputs": [],
   "source": [
    "myhen.add_utility('hot', 300, 0.70)\n",
    "myhen.add_utility('cold', 30, 0.05)"
   ]
  },
  {
   "cell_type": "markdown",
   "id": "ab0f66ad",
   "metadata": {},
   "source": [
    "After declaring all your streams and utilities, you must call the get_parameters() method, which will update the HEN object and the streams with information such as pinch point and utility requirements.\\\n",
    "If any of the streams or utilities change, you must call get_parameters() again."
   ]
  },
  {
   "cell_type": "code",
   "execution_count": null,
   "id": "1e41b336",
   "metadata": {},
   "outputs": [],
   "source": [
    "myhen.get_parameters()"
   ]
  },
  {
   "cell_type": "markdown",
   "id": "64ef212a",
   "metadata": {},
   "source": [
    "<h3>Plots</h3>\n",
    "After calling get_parameters(), ALChemE can automatically make Temperature-Interval Diagrams (TIDs) and Composite Curves (CCs). Note one does not need to generate these plots to use the automatic solver (shown below), and vice-versa."
   ]
  },
  {
   "cell_type": "code",
   "execution_count": null,
   "id": "42382ba0",
   "metadata": {},
   "outputs": [],
   "source": [
    "myhen.make_tid()"
   ]
  },
  {
   "cell_type": "code",
   "execution_count": null,
   "id": "8d0645fa",
   "metadata": {},
   "outputs": [],
   "source": [
    "myhen.make_cc()"
   ]
  },
  {
   "cell_type": "markdown",
   "id": "7d741cfb",
   "metadata": {},
   "source": [
    "<h3>Solving the system</h3>\n",
    "After the setup is complete, solving a system is really easy. In its simplest form, all you have to do is call the solve_HEN() method with the region ('above' or 'below' pinch) as input."
   ]
  },
  {
   "cell_type": "code",
   "execution_count": null,
   "id": "7100d3fb",
   "metadata": {},
   "outputs": [],
   "source": [
    "myhen.solve_HEN('above')"
   ]
  },
  {
   "cell_type": "markdown",
   "id": "5c3e8e14",
   "metadata": {},
   "source": [
    "Solutions are stored in myhen.results_above or myhen.results below as pandas DataFrames. A convenient way to display all solutions is below.\\\n",
    "NOTE: Python numbers things from 0, so the 1st solution is solution number 0. Be careful if you are not used to this."
   ]
  },
  {
   "cell_type": "code",
   "execution_count": null,
   "id": "e2e04243",
   "metadata": {},
   "outputs": [],
   "source": [
    "for idx, elem in enumerate(myhen.results_above):\n",
    "    print(f'Solution number {idx}:')\n",
    "    print(f'Number of exchangers: {(elem.loc[\"Q\"]>0).sum().sum():2} | Total cost: ${elem.loc[\"cost\"].sum().sum():,.2f}')"
   ]
  },
  {
   "cell_type": "markdown",
   "id": "d051e016",
   "metadata": {},
   "source": [
    "Repeating this procedure for the below-pinch region:"
   ]
  },
  {
   "cell_type": "code",
   "execution_count": null,
   "id": "5472eaff",
   "metadata": {},
   "outputs": [],
   "source": [
    "myhen.solve_HEN('below')"
   ]
  },
  {
   "cell_type": "code",
   "execution_count": null,
   "id": "7fce134e",
   "metadata": {},
   "outputs": [],
   "source": [
    "for idx, elem in enumerate(myhen.results_below):\n",
    "    print(f'Solution number {idx}:')\n",
    "    print(f'Number of exchangers: {(elem.loc[\"Q\"]>0).sum().sum():2} | Total cost: ${elem.loc[\"cost\"].sum().sum():,.2f}')"
   ]
  }
 ],
 "metadata": {
  "kernelspec": {
   "display_name": "Python 3 (ipykernel)",
   "language": "python",
   "name": "python3"
  },
  "language_info": {
   "codemirror_mode": {
    "name": "ipython",
    "version": 3
   },
   "file_extension": ".py",
   "mimetype": "text/x-python",
   "name": "python",
   "nbconvert_exporter": "python",
   "pygments_lexer": "ipython3",
   "version": "3.9.12"
  }
 },
 "nbformat": 4,
 "nbformat_minor": 5
}
