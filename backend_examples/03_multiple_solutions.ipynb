{
 "cells": [
  {
   "cell_type": "markdown",
   "id": "b75e3e9d",
   "metadata": {},
   "source": [
    "<center><h2>Example 03 - Obtaining Multiple Solutions</h2></center>\n",
    "<center><h2>Data taken from Seider <em>et al.</em>, Product and Process Design Principles, 4th ed.</h2></center>\n",
    "<center><h2>Example 11.6 on page 327</h2></center></br>\n",
    "We will create a network as usual, then use ALChemE to obtain multiple valid solutions to this network."
   ]
  },
  {
   "cell_type": "markdown",
   "id": "46f92a3b",
   "metadata": {},
   "source": [
    "As usual, begin by importing our packages and declaring the HEN object. We will continue to use $c_P [=] \\frac{kJ}{\\Delta°C*kg}$ based on the problem specification."
   ]
  },
  {
   "cell_type": "code",
   "execution_count": null,
   "id": "7c2a86f9",
   "metadata": {},
   "outputs": [],
   "source": [
    "from hen_design import HEN\n",
    "import unyt as u\n",
    "import numpy as np\n",
    "import pandas as pd"
   ]
  },
  {
   "cell_type": "code",
   "execution_count": null,
   "id": "b3ff3198",
   "metadata": {},
   "outputs": [],
   "source": [
    "myhen = HEN(cp_unit = u.kJ/(u.delta_degC*u.kg))"
   ]
  },
  {
   "cell_type": "markdown",
   "id": "a8193895",
   "metadata": {},
   "source": [
    "Declare the streams and utilities as usual. Notice here we declare the cold streams first. As mentioned in Example 01, ALChemE accepts streams in any order. You may even pass some hot streams, then some cold streams, then go back to hot streams, etc."
   ]
  },
  {
   "cell_type": "code",
   "execution_count": null,
   "id": "02ed6ea4",
   "metadata": {},
   "outputs": [],
   "source": [
    "myhen.add_stream(60, 180, 3)\n",
    "myhen.add_stream(30, 130, 2.6)\n",
    "myhen.add_stream(180, 40, 2)\n",
    "myhen.add_stream(150, 40, 4)"
   ]
  },
  {
   "cell_type": "code",
   "execution_count": null,
   "id": "c95d6000",
   "metadata": {},
   "outputs": [],
   "source": [
    "myhen.add_utility('hot', 300, 0.70)\n",
    "myhen.add_utility('cold', 30, 0.05)"
   ]
  },
  {
   "cell_type": "markdown",
   "id": "d6055469",
   "metadata": {},
   "source": [
    "As usual, call get_parameters()."
   ]
  },
  {
   "cell_type": "code",
   "execution_count": null,
   "id": "7ee9cc91",
   "metadata": {},
   "outputs": [],
   "source": [
    "myhen.get_parameters()"
   ]
  },
  {
   "cell_type": "markdown",
   "id": "7d741cfb",
   "metadata": {},
   "source": [
    "<h3>Solving the system</h3>\n",
    "The setup is complete, so we will move on to solving the system. However, we will now pass a new parameter to solve_HEN(): depth. This depth parameter tells the solver to try to obtain new solutions by (temporarily) forbidding and allowing some matches. Unfortunately, there is no guarantee the solver will find all possible solutions.</br>\n",
    "The value passed to depth must be an integer, but it is relatively arbitrary. A larger value will make the solver attempt to find more solutions, at the expense of a longer runtime. After a certain threshold, which varies based on your HEN, increasing the depth does not make any difference."
   ]
  },
  {
   "cell_type": "code",
   "execution_count": null,
   "id": "b19566c5",
   "metadata": {},
   "outputs": [],
   "source": [
    "myhen.solve_HEN('above', depth = 2)"
   ]
  },
  {
   "cell_type": "markdown",
   "id": "5c3e8e14",
   "metadata": {},
   "source": [
    "Solutions are stored in myhen.results_above or myhen.results below as pandas DataFrames. A convenient way to display all solutions is below.\\\n",
    "NOTE: Python numbers things from 0, so the 1st solution is solution number 0. Be careful if you are not used to this."
   ]
  },
  {
   "cell_type": "code",
   "execution_count": null,
   "id": "4fb4b19a",
   "metadata": {},
   "outputs": [],
   "source": [
    "for idx, elem in enumerate(myhen.results_above):\n",
    "    print(f'Solution number {idx}:')\n",
    "    print(f'Number of exchangers: {(elem.loc[\"Q\"]>0).sum().sum():2} | Total cost: ${elem.loc[\"cost\"].sum().sum():,.2f}')"
   ]
  },
  {
   "cell_type": "code",
   "execution_count": null,
   "id": "2b6fb478",
   "metadata": {},
   "outputs": [],
   "source": [
    "myhen.solve_HEN('below', depth = 2)"
   ]
  },
  {
   "cell_type": "markdown",
   "id": "c45a88e6",
   "metadata": {},
   "source": [
    "Solutions are stored in myhen.results_above or myhen.results below as pandas DataFrames. A convenient way to display all solutions is below.\\\n",
    "NOTE: Python numbers things from 0, so the 1st solution is solution number 0. Be careful if you are not used to this."
   ]
  },
  {
   "cell_type": "code",
   "execution_count": null,
   "id": "e02d4503",
   "metadata": {},
   "outputs": [],
   "source": [
    "for idx, elem in enumerate(myhen.results_below):\n",
    "    print(f'Solution number {idx}:')\n",
    "    print(f'Number of exchangers: {(elem.loc[\"Q\"]>0).sum().sum():2} | Total cost: ${elem.loc[\"cost\"].sum().sum():,.2f}')"
   ]
  },
  {
   "cell_type": "markdown",
   "id": "cccd14bb",
   "metadata": {},
   "source": [
    "<h3>Note the following:</h3>\n",
    "1) For the above-pinch subnetwork of this HEN, no additional solutions were found.</br>\n",
    "2) For the above-pinch subnetwork of this HEN, a depth of 2 (or higher) makes no difference, as shown by the lack of \"iteration X out of Y\" prints after \"Current depth = 2\".</br>\n",
    "3) For the below-pinch subnetwork of this HEN, one additional solution was found.</br>\n",
    "4) For the below-pinch subnetwork of this HEN, a depth of 2 made a difference, as shown by the single iteration after \"Current depth = 2\". The additional solution would be found with depth = 1.</br>\n",
    "\n",
    "In conclusion, do not be afraid of trying out different values of depth for different networks."
   ]
  },
  {
   "cell_type": "markdown",
   "id": "563639df",
   "metadata": {},
   "source": [
    "<h3>Addendum: showing the solutions as a table</h3>\n",
    "You may have noticed the solutions are no longer shown as a table after calling solve_HEN(), unlike when we solved with depth = 0. To see these tables, use myhen.results_above[number] or myhen.results_below[number]. Remember Python starts counting from 0."
   ]
  },
  {
   "cell_type": "code",
   "execution_count": null,
   "id": "3c249f1b",
   "metadata": {},
   "outputs": [],
   "source": [
    "myhen.results_above[0]"
   ]
  },
  {
   "cell_type": "code",
   "execution_count": null,
   "id": "e2bf5ae6",
   "metadata": {},
   "outputs": [],
   "source": [
    "myhen.results_below[0]"
   ]
  },
  {
   "cell_type": "code",
   "execution_count": null,
   "id": "c1055121",
   "metadata": {},
   "outputs": [],
   "source": [
    "myhen.results_below[1]"
   ]
  }
 ],
 "metadata": {
  "kernelspec": {
   "display_name": "Python 3 (ipykernel)",
   "language": "python",
   "name": "python3"
  },
  "language_info": {
   "codemirror_mode": {
    "name": "ipython",
    "version": 3
   },
   "file_extension": ".py",
   "mimetype": "text/x-python",
   "name": "python",
   "nbconvert_exporter": "python",
   "pygments_lexer": "ipython3",
   "version": "3.9.12"
  }
 },
 "nbformat": 4,
 "nbformat_minor": 5
}
