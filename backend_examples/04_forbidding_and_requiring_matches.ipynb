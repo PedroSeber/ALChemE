{
 "cells": [
  {
   "cell_type": "markdown",
   "id": "b75e3e9d",
   "metadata": {},
   "source": [
    "<center><h2>Example 04 - Forbidding and Requiring Matches</h2></center>\n",
    "<center><h2>Data taken from C.A. Floudas, Nonlinear and Mixed-Integer Optimization</h2></center>\n",
    "<center><h2>Table 8.1 on page 263</h2></center></br>\n",
    "We will create and solve a network as usual. We will also show how to tell ALChemE some matches cannot be done or must be done, and show how the solution changes (or not) based on our choices."
   ]
  },
  {
   "cell_type": "markdown",
   "id": "46f92a3b",
   "metadata": {},
   "source": [
    "As usual, begin by importing our packages and declaring the HEN object. Note we are using a minimum $\\Delta$T = 30 °C, instead of the usual 10°C."
   ]
  },
  {
   "cell_type": "code",
   "execution_count": null,
   "id": "063918ca",
   "metadata": {},
   "outputs": [],
   "source": [
    "from hen_design import HEN\n",
    "import unyt as u\n",
    "import numpy as np\n",
    "import pandas as pd"
   ]
  },
  {
   "cell_type": "code",
   "execution_count": null,
   "id": "31f16c6f",
   "metadata": {},
   "outputs": [],
   "source": [
    "myhen = HEN(delta_t = 30)"
   ]
  },
  {
   "cell_type": "markdown",
   "id": "6a188f7f",
   "metadata": {},
   "source": [
    "Declare the streams and utilities as usual."
   ]
  },
  {
   "cell_type": "code",
   "execution_count": null,
   "id": "67a07879",
   "metadata": {},
   "outputs": [],
   "source": [
    "myhen.add_stream(95, 75, 5)\n",
    "myhen.add_stream(80, 75, 50)\n",
    "myhen.add_stream(30, 90, 10)\n",
    "myhen.add_stream(60, 70, 12.5)"
   ]
  },
  {
   "cell_type": "code",
   "execution_count": null,
   "id": "b246d550",
   "metadata": {},
   "outputs": [],
   "source": [
    "myhen.add_utility('hot', 300, 0.70)\n",
    "myhen.add_utility('cold', 30, 0.05)"
   ]
  },
  {
   "cell_type": "markdown",
   "id": "d8dfc611",
   "metadata": {},
   "source": [
    "As usual, call get_parameters()."
   ]
  },
  {
   "cell_type": "code",
   "execution_count": null,
   "id": "fbd522ac",
   "metadata": {},
   "outputs": [],
   "source": [
    "myhen.get_parameters()"
   ]
  },
  {
   "cell_type": "markdown",
   "id": "f0bccf55",
   "metadata": {},
   "source": [
    "<h3>Solving the system - standard</h3>\n",
    "The setup is complete, so we will move on to solving the system. At first, let us solve the system without forbidding or requiring any matches."
   ]
  },
  {
   "cell_type": "code",
   "execution_count": null,
   "id": "e3edda0a",
   "metadata": {},
   "outputs": [],
   "source": [
    "myhen.solve_HEN('above', depth = 2)"
   ]
  },
  {
   "cell_type": "markdown",
   "id": "5c3e8e14",
   "metadata": {},
   "source": [
    "Solutions are stored in myhen.results_above or myhen.results below as pandas DataFrames. A convenient way to display all solutions is below.\\\n",
    "NOTE: Python numbers things from 0, so the 1st solution is solution number 0. Be careful if you are not used to this."
   ]
  },
  {
   "cell_type": "code",
   "execution_count": null,
   "id": "c791ba65",
   "metadata": {},
   "outputs": [],
   "source": [
    "for idx, elem in enumerate(myhen.results_above):\n",
    "    print(f'Solution number {idx}:')\n",
    "    print(f'Number of exchangers: {(elem.loc[\"Q\"]>0).sum().sum():2} | Total cost: ${elem.loc[\"cost\"].sum().sum():,.2f}')"
   ]
  },
  {
   "cell_type": "code",
   "execution_count": null,
   "id": "b83a6cf0",
   "metadata": {},
   "outputs": [],
   "source": [
    "myhen.solve_HEN('below', depth = 2)"
   ]
  },
  {
   "cell_type": "markdown",
   "id": "b69b1330",
   "metadata": {},
   "source": [
    "Solutions are stored in myhen.results_above or myhen.results below as pandas DataFrames. A convenient way to display all solutions is below.\\\n",
    "NOTE: Python numbers things from 0, so the 1st solution is solution number 0. Be careful if you are not used to this."
   ]
  },
  {
   "cell_type": "code",
   "execution_count": null,
   "id": "eb20379c",
   "metadata": {},
   "outputs": [],
   "source": [
    "for idx, elem in enumerate(myhen.results_below):\n",
    "    print(f'Solution number {idx}:')\n",
    "    print(f'Number of exchangers: {(elem.loc[\"Q\"]>0).sum().sum():2} | Total cost: ${elem.loc[\"cost\"].sum().sum():,.2f}')"
   ]
  },
  {
   "cell_type": "markdown",
   "id": "25b9bed9",
   "metadata": {},
   "source": [
    "<h3>Solving the system - forbidden matches</h3>\n",
    "Let us now solve the system by forbidding a match we found in the original solution.</br>\n",
    "To forbid a match, set its upper_limit = 0. First, create an array full of -1 like so:"
   ]
  },
  {
   "cell_type": "code",
   "execution_count": null,
   "id": "0b6d4056",
   "metadata": {},
   "outputs": [],
   "source": [
    "my_limit = np.full_like(myhen.upper_limit, -1) # Creating an array of -1 with the right shape"
   ]
  },
  {
   "cell_type": "markdown",
   "id": "4f114376",
   "metadata": {},
   "source": [
    "Then, set the upper heat transferred limit of whatever matches you want to block to 0"
   ]
  },
  {
   "cell_type": "code",
   "execution_count": null,
   "id": "880bfd6a",
   "metadata": {},
   "outputs": [],
   "source": [
    "my_limit[1, 1] = 0 # Forbidding the match between H1 and C1. Note the utilities come before the streams"
   ]
  },
  {
   "cell_type": "markdown",
   "id": "059d8870",
   "metadata": {},
   "source": [
    "Solving this constrained system"
   ]
  },
  {
   "cell_type": "code",
   "execution_count": null,
   "id": "4f9bf9ac",
   "metadata": {},
   "outputs": [],
   "source": [
    "myhen.solve_HEN('above', depth = 2, upper = my_limit)"
   ]
  },
  {
   "cell_type": "markdown",
   "id": "f0778bc0",
   "metadata": {},
   "source": [
    "<h3>Whoa, what happened?</h3>\n",
    "ALChemE will try to obey your constraints no matter what. However, it is possible to constrain the system so much that no viable solution is found. In these scenarios, ALChemE will return an error</br>\n",
    "Let us now try to forbid another stream."
   ]
  },
  {
   "cell_type": "code",
   "execution_count": null,
   "id": "8c4df588",
   "metadata": {},
   "outputs": [],
   "source": [
    "my_limit = np.full_like(myhen.upper_limit, -1) # Creating an array of -1 with the right shape\n",
    "my_limit[1, 2] = 0 # Forbidding the match between H1 and C2. Note the utilities come before the streams"
   ]
  },
  {
   "cell_type": "code",
   "execution_count": null,
   "id": "3b406103",
   "metadata": {},
   "outputs": [],
   "source": [
    "myhen.solve_HEN('above', depth = 2, upper = my_limit)"
   ]
  },
  {
   "cell_type": "markdown",
   "id": "3ea473df",
   "metadata": {},
   "source": [
    "<h3>Solving the system - required matches</h3>\n",
    "Let us now solve the system by requiring a match we found in the original solutions.</br>\n",
    "To forbid a match, set its required = 1. First, create an array full of 0 like so:"
   ]
  },
  {
   "cell_type": "code",
   "execution_count": null,
   "id": "0274113d",
   "metadata": {},
   "outputs": [],
   "source": [
    "my_required = np.full_like(myhen.upper_limit, 0) # Creating an array of 0 with the right shape"
   ]
  },
  {
   "cell_type": "markdown",
   "id": "041528f4",
   "metadata": {},
   "source": [
    "Then, set the required flag of whatever matches you want to block to 1"
   ]
  },
  {
   "cell_type": "code",
   "execution_count": null,
   "id": "07060a3d",
   "metadata": {},
   "outputs": [],
   "source": [
    "my_required[1, 1] = 1 # Requiring the match between H1 and C1. Note the utilities come before the streams"
   ]
  },
  {
   "cell_type": "code",
   "execution_count": null,
   "id": "65ff7401",
   "metadata": {},
   "outputs": [],
   "source": [
    "myhen.solve_HEN('above', depth = 2, required = my_required)"
   ]
  },
  {
   "cell_type": "markdown",
   "id": "4dbb2fe5",
   "metadata": {},
   "source": [
    "Finally, notice you can manipulate the lower limits by creating an array of 0 and changing individual values within it, then passing that array using the *lower* keyword when calling solve_HEN().\\\n",
    "You can also use the upper limits to limit how much is transferred in a match without forcing the limit to be 0."
   ]
  }
 ],
 "metadata": {
  "kernelspec": {
   "display_name": "Python 3 (ipykernel)",
   "language": "python",
   "name": "python3"
  },
  "language_info": {
   "codemirror_mode": {
    "name": "ipython",
    "version": 3
   },
   "file_extension": ".py",
   "mimetype": "text/x-python",
   "name": "python",
   "nbconvert_exporter": "python",
   "pygments_lexer": "ipython3",
   "version": "3.9.12"
  }
 },
 "nbformat": 4,
 "nbformat_minor": 5
}
