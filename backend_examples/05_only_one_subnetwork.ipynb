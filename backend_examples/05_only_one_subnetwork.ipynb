{
 "cells": [
  {
   "cell_type": "markdown",
   "id": "b75e3e9d",
   "metadata": {},
   "source": [
    "<center><h2>Example 05 - Solving HENs that have only one subnetwork</h2></center>\n",
    "<center><h2>Data taken from C.A. Floudas, Nonlinear and Mixed-Integer Optimization</h2></center>\n",
    "<center><h2>Table 8.4 on page 289</h2></center></br>\n",
    "We will create and solve a network as usual. However, this HEN contains streams only below the pinch point. Nevertheless, ALChemE can solve it as normal without issues."
   ]
  },
  {
   "cell_type": "markdown",
   "id": "46f92a3b",
   "metadata": {},
   "source": [
    "As usual, begin by importing our packages and declaring the HEN object."
   ]
  },
  {
   "cell_type": "code",
   "execution_count": null,
   "id": "0397908d",
   "metadata": {},
   "outputs": [],
   "source": [
    "from hen_design import HEN\n",
    "import unyt as u\n",
    "import numpy as np\n",
    "import pandas as pd"
   ]
  },
  {
   "cell_type": "code",
   "execution_count": null,
   "id": "881161ad",
   "metadata": {},
   "outputs": [],
   "source": [
    "myhen = HEN()"
   ]
  },
  {
   "cell_type": "markdown",
   "id": "6a188f7f",
   "metadata": {},
   "source": [
    "Declare the streams and utilities as usual. Note we are declaring only a cold utility, as there are no streams above the pinch."
   ]
  },
  {
   "cell_type": "code",
   "execution_count": null,
   "id": "5d582fb4",
   "metadata": {},
   "outputs": [],
   "source": [
    "myhen.add_stream(159, 77, 228.5)\n",
    "myhen.add_stream(159, 88, 20.4)\n",
    "myhen.add_stream(159, 90, 53.8)\n",
    "myhen.add_stream(26, 127, 93.3)\n",
    "myhen.add_stream(118, 149, 196.1)"
   ]
  },
  {
   "cell_type": "code",
   "execution_count": null,
   "id": "37e06ae5",
   "metadata": {},
   "outputs": [],
   "source": [
    "myhen.add_utility('cold', 30, 0.05)"
   ]
  },
  {
   "cell_type": "markdown",
   "id": "d8dfc611",
   "metadata": {},
   "source": [
    "As usual, call get_parameters(). Note how ALChemE highlights that there are no streams above pinch."
   ]
  },
  {
   "cell_type": "code",
   "execution_count": null,
   "id": "cc44b26e",
   "metadata": {},
   "outputs": [],
   "source": [
    "myhen.get_parameters()"
   ]
  },
  {
   "cell_type": "markdown",
   "id": "7d741cfb",
   "metadata": {},
   "source": [
    "<h3>Solving the system</h3>\n",
    "The setup is complete, so we will move on to solving the system. Note we will try to solve only the subnetwork below the pinch."
   ]
  },
  {
   "cell_type": "code",
   "execution_count": null,
   "id": "be7b6c61",
   "metadata": {},
   "outputs": [],
   "source": [
    "myhen.solve_HEN('below', depth = 4)"
   ]
  },
  {
   "cell_type": "markdown",
   "id": "b69b1330",
   "metadata": {},
   "source": [
    "Solutions are stored in myhen.results_above or myhen.results below as pandas DataFrames. A convenient way to display all solutions is below.\\\n",
    "NOTE: Python numbers things from 0, so the 1st solution is solution number 0. Be careful if you are not used to this."
   ]
  },
  {
   "cell_type": "code",
   "execution_count": null,
   "id": "006b81c8",
   "metadata": {},
   "outputs": [],
   "source": [
    "for idx, elem in enumerate(myhen.results_below):\n",
    "    print(f'Solution number {idx}:')\n",
    "    print(f'Number of exchangers: {(elem.loc[\"Q\"]>0).sum().sum():2} | Total cost: ${elem.loc[\"cost\"].sum().sum():,.2f}')"
   ]
  },
  {
   "cell_type": "markdown",
   "id": "f8a835a6",
   "metadata": {},
   "source": [
    "<h3>Addendum:</h3>\n",
    "Floudas reports 4 solutions using 5 exchangers each (pp. 290 and 291). Note, however, ALChemE finds only 2 of these with the default settings. It's possible to \"hunt\" for these other 2 solutions using forbidden / required matches."
   ]
  }
 ],
 "metadata": {
  "kernelspec": {
   "display_name": "Python 3 (ipykernel)",
   "language": "python",
   "name": "python3"
  },
  "language_info": {
   "codemirror_mode": {
    "name": "ipython",
    "version": 3
   },
   "file_extension": ".py",
   "mimetype": "text/x-python",
   "name": "python",
   "nbconvert_exporter": "python",
   "pygments_lexer": "ipython3",
   "version": "3.9.12"
  }
 },
 "nbformat": 4,
 "nbformat_minor": 5
}
